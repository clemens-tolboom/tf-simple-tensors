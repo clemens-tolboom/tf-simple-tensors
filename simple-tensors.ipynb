{
 "cells": [
  {
   "cell_type": "markdown",
   "metadata": {
    "slideshow": {
     "slide_type": "slide"
    }
   },
   "source": [
    "# Simple tensorflow example\n",
    "\n",
    "We want to calculate `a = (b + c) * (c + 2)` where which is kinda a compute graph.\n",
    "\n",
    "```\n",
    "d = b + c\n",
    "e = c + 2\n",
    "a = d * e\n",
    "```\n",
    "\n",
    "where `d` and `e` are intermediate results.\n",
    "\n",
    "## What is a tensor\n",
    "\n",
    "tensor is generic type of a matrix is a 2D type of a vector is 1D type of numeric\n"
   ]
  },
  {
   "cell_type": "code",
   "execution_count": null,
   "metadata": {
    "slideshow": {
     "slide_type": "slide"
    }
   },
   "outputs": [],
   "source": [
    "import tensorflow as tf\n",
    "\n",
    "import numpy as np"
   ]
  },
  {
   "cell_type": "markdown",
   "metadata": {
    "slideshow": {
     "slide_type": "slide"
    }
   },
   "source": [
    "### Constants\n",
    "\n",
    "[Constant](https://www.tensorflow.org/api_docs/python/tf/constant) are constants. Name is used for diagrams and dump"
   ]
  },
  {
   "cell_type": "code",
   "execution_count": null,
   "metadata": {
    "slideshow": {
     "slide_type": "subslide"
    }
   },
   "outputs": [],
   "source": [
    "# # Constant 1-D Tensor populated with value list.\n",
    "# tensor = tf.constant([1, 2, 3, 4, 5, 6, 7]) => [1 2 3 4 5 6 7]\n",
    "\n",
    "# # Constant 2-D tensor populated with scalar value -1.\n",
    "# tensor = tf.constant(-1.0, shape=[2, 3]) => [\n",
    "#                                              [-1. -1. -1.]\n",
    "#                                              [-1. -1. -1.]\n",
    "#                                             ]\n",
    "\n",
    "const = tf.constant(3, name = 'c')\n",
    "const"
   ]
  },
  {
   "cell_type": "markdown",
   "metadata": {
    "slideshow": {
     "slide_type": "slide"
    }
   },
   "source": [
    "### Variables\n",
    "\n",
    "[Variable](https://www.tensorflow.org/api_docs/python/tf/Variable) are able to change their runtime value (doh). See also [tf.get_variables](https://www.tensorflow.org/guide/variables)"
   ]
  },
  {
   "cell_type": "code",
   "execution_count": null,
   "metadata": {
    "slideshow": {
     "slide_type": "subslide"
    }
   },
   "outputs": [],
   "source": [
    "b = tf.Variable(4.0, name = 'b')\n",
    "\n",
    "#c = tf.Variable(-3, name = 'c')\n",
    "#c = tf.get_variable('c', [1])\n",
    "c = tf.Variable(-3.0, name = 'c')\n",
    "c"
   ]
  },
  {
   "cell_type": "markdown",
   "metadata": {
    "slideshow": {
     "slide_type": "slide"
    }
   },
   "source": [
    "### Calculation"
   ]
  },
  {
   "cell_type": "code",
   "execution_count": null,
   "metadata": {
    "slideshow": {
     "slide_type": "subslide"
    }
   },
   "outputs": [],
   "source": [
    "d = tf.add(b, c, name = 'd')\n",
    "e = tf.add(c , 2, name = 'e')\n",
    "a = tf.multiply(d, e, name = 'a')"
   ]
  },
  {
   "cell_type": "code",
   "execution_count": null,
   "metadata": {
    "slideshow": {
     "slide_type": "subslide"
    }
   },
   "outputs": [],
   "source": [
    "a"
   ]
  },
  {
   "cell_type": "markdown",
   "metadata": {
    "slideshow": {
     "slide_type": "slide"
    }
   },
   "source": [
    "### Graph\n",
    "\n",
    "So we now have the graph build. How to prepare and run it?"
   ]
  },
  {
   "cell_type": "code",
   "execution_count": null,
   "metadata": {
    "slideshow": {
     "slide_type": "subslide"
    }
   },
   "outputs": [],
   "source": [
    "init_op = tf.global_variables_initializer()"
   ]
  },
  {
   "cell_type": "code",
   "execution_count": null,
   "metadata": {
    "slideshow": {
     "slide_type": "subslide"
    }
   },
   "outputs": [],
   "source": [
    "# b as simple variable\n",
    "with tf.Session() as session:\n",
    "    session.run(init_op)\n",
    "    a_out = session.run(a)\n",
    "    print(\"Variable a is {}\".format(a_out))"
   ]
  },
  {
   "cell_type": "code",
   "execution_count": null,
   "metadata": {
    "slideshow": {
     "slide_type": "slide"
    }
   },
   "outputs": [],
   "source": [
    "print(\"Expression a = (b ({}) + c ({})) * (c ({}) + 2)\".format(b , c, c))"
   ]
  },
  {
   "cell_type": "markdown",
   "metadata": {},
   "source": [
    "### 1-D Graph"
   ]
  },
  {
   "cell_type": "code",
   "execution_count": null,
   "metadata": {
    "slideshow": {
     "slide_type": "slide"
    }
   },
   "outputs": [],
   "source": [
    "# Make b a 1-D tensor aka vector\n",
    "b = tf.placeholder(tf.float32, [None, 1], name = 'b')"
   ]
  },
  {
   "cell_type": "code",
   "execution_count": null,
   "metadata": {
    "slideshow": {
     "slide_type": "subslide"
    }
   },
   "outputs": [],
   "source": [
    "d = tf.add(b, c, name = 'd')\n",
    "e = tf.add(c , 2, name = 'e')\n",
    "a = tf.multiply(d, e, name = 'a')"
   ]
  },
  {
   "cell_type": "code",
   "execution_count": null,
   "metadata": {
    "slideshow": {
     "slide_type": "subslide"
    }
   },
   "outputs": [],
   "source": [
    "init_op = tf.global_variables_initializer()"
   ]
  },
  {
   "cell_type": "code",
   "execution_count": null,
   "metadata": {
    "slideshow": {
     "slide_type": "slide"
    }
   },
   "outputs": [],
   "source": [
    "with tf.Session() as session:\n",
    "    session.run(init_op)\n",
    "    a_out = session.run(a, feed_dict= {\n",
    "        b: np.arange(0, 10)[:, np.newaxis]\n",
    "    })\n",
    "    print(\"Variable a is {}\".format(a_out))\n",
    "    print(\"Expression a = (b ({}) + c ({})) * (c ({}) + 2)\".format(b , c, c))"
   ]
  },
  {
   "cell_type": "markdown",
   "metadata": {
    "slideshow": {
     "slide_type": "slide"
    }
   },
   "source": [
    "### 2-D Graph"
   ]
  },
  {
   "cell_type": "code",
   "execution_count": null,
   "metadata": {},
   "outputs": [],
   "source": [
    "# Make b a 2-D tensor aka matrix\n",
    "b = tf.placeholder(tf.float32, [None, 2, 3], name = 'b')"
   ]
  },
  {
   "cell_type": "code",
   "execution_count": null,
   "metadata": {},
   "outputs": [],
   "source": [
    "d = tf.add(b, c, name = 'd')\n",
    "e = tf.add(c , 2, name = 'e')\n",
    "a = tf.multiply(d, e, name = 'a')"
   ]
  },
  {
   "cell_type": "code",
   "execution_count": null,
   "metadata": {},
   "outputs": [],
   "source": [
    "init_op = tf.global_variables_initializer()"
   ]
  },
  {
   "cell_type": "code",
   "execution_count": null,
   "metadata": {},
   "outputs": [],
   "source": [
    "with tf.Session() as session:\n",
    "    session.run(init_op)\n",
    "    a_out = session.run(a, feed_dict= {\n",
    "        b: np.arange(0, 10)[[:, 2, 3], np.newaxis]\n",
    "    })\n",
    "    print(\"Variable a is {}\".format(a_out))\n",
    "    print(\"Expression a = (b ({}) + c ({})) * (c ({}) + 2)\".format(b , c, c))"
   ]
  }
 ],
 "metadata": {
  "kernelspec": {
   "display_name": "Python 3",
   "language": "python",
   "name": "python3"
  },
  "language_info": {
   "codemirror_mode": {
    "name": "ipython",
    "version": 3
   },
   "file_extension": ".py",
   "mimetype": "text/x-python",
   "name": "python",
   "nbconvert_exporter": "python",
   "pygments_lexer": "ipython3",
   "version": "3.6.7"
  }
 },
 "nbformat": 4,
 "nbformat_minor": 2
}
